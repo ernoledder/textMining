{
  "nbformat": 4,
  "nbformat_minor": 0,
  "metadata": {
    "kernelspec": {
      "name": "python3",
      "display_name": "Python 3"
    },
    "language_info": {
      "codemirror_mode": {
        "name": "ipython",
        "version": 3
      },
      "file_extension": ".py",
      "mimetype": "text/x-python",
      "name": "python",
      "nbconvert_exporter": "python",
      "pygments_lexer": "ipython3",
      "version": "3.7.3"
    },
    "colab": {
      "name": "textMining.ipynb",
      "provenance": [],
      "collapsed_sections": []
    },
    "accelerator": "GPU"
  },
  "cells": [
    {
      "cell_type": "code",
      "metadata": {
        "id": "99fSHJYH3KED",
        "colab_type": "code",
        "outputId": "22af6320-1bee-4625-e5c4-a93e26ed4a64",
        "colab": {
          "base_uri": "https://localhost:8080/",
          "height": 80
        }
      },
      "source": [
        "# load packages\n",
        "import pandas as pd\n",
        "import numpy as np\n",
        "import glob\n",
        "import errno\n",
        "import re\n",
        "import nltk\n",
        "from nltk.corpus import stopwords\n",
        "import matplotlib.pyplot as plt\n",
        "#from pattern.nl import sentiment\n",
        "from nltk.stem.snowball import SnowballStemmer\n",
        "from numpy import array\n",
        "from keras.preprocessing.text import one_hot\n",
        "from keras.preprocessing.sequence import pad_sequences\n",
        "from keras.callbacks import EarlyStopping\n",
        "from keras.models import Sequential\n",
        "from keras.layers.core import Activation, Dropout, Dense\n",
        "from keras.layers import *\n",
        "from keras.layers import GlobalMaxPooling1D\n",
        "from keras.layers.embeddings import Embedding\n",
        "from sklearn.model_selection import train_test_split\n",
        "from keras.preprocessing.text import Tokenizer\n",
        "from IPython.core.display import display, HTML\n",
        "display(HTML(\"<style>.container { width:100% !important; }</style>\"))"
      ],
      "execution_count": 0,
      "outputs": [
        {
          "output_type": "stream",
          "text": [
            "Using TensorFlow backend.\n"
          ],
          "name": "stderr"
        },
        {
          "output_type": "display_data",
          "data": {
            "text/html": [
              "<p style=\"color: red;\">\n",
              "The default version of TensorFlow in Colab will soon switch to TensorFlow 2.x.<br>\n",
              "We recommend you <a href=\"https://www.tensorflow.org/guide/migrate\" target=\"_blank\">upgrade</a> now \n",
              "or ensure your notebook will continue to use TensorFlow 1.x via the <code>%tensorflow_version 1.x</code> magic:\n",
              "<a href=\"https://colab.research.google.com/notebooks/tensorflow_version.ipynb\" target=\"_blank\">more info</a>.</p>\n"
            ],
            "text/plain": [
              "<IPython.core.display.HTML object>"
            ]
          },
          "metadata": {
            "tags": []
          }
        },
        {
          "output_type": "display_data",
          "data": {
            "text/html": [
              "<style>.container { width:100% !important; }</style>"
            ],
            "text/plain": [
              "<IPython.core.display.HTML object>"
            ]
          },
          "metadata": {
            "tags": []
          }
        }
      ]
    },
    {
      "cell_type": "code",
      "metadata": {
        "id": "jXk7PfUE3uRl",
        "colab_type": "code",
        "colab": {}
      },
      "source": [
        "from google.colab import drive\n",
        "drive.mount('/content/drive')"
      ],
      "execution_count": 0,
      "outputs": []
    },
    {
      "cell_type": "code",
      "metadata": {
        "id": "jcr5JD6r3KEH",
        "colab_type": "code",
        "colab": {}
      },
      "source": [
        "# create empty dataframe\n",
        "#df = pd.DataFrame(columns=['text', 'sentiment'])"
      ],
      "execution_count": 0,
      "outputs": []
    },
    {
      "cell_type": "code",
      "metadata": {
        "id": "LkQkRlEiW4Ne",
        "colab_type": "code",
        "colab": {}
      },
      "source": [
        "PATH = '/content/drive/My Drive/train'"
      ],
      "execution_count": 0,
      "outputs": []
    },
    {
      "cell_type": "code",
      "metadata": {
        "id": "ifr0NmZP3KEL",
        "colab_type": "code",
        "colab": {}
      },
      "source": [
        "# add text and sentiment to dataframe\n",
        "'''\n",
        "path = f'{PATH}/pos_t/*.txt'\n",
        "files = glob.glob(path)\n",
        "i = 0\n",
        "for name in files:\n",
        "    try:\n",
        "        if(i %100==0):\n",
        "          print(i)\n",
        "        with open(name,encoding=\"utf8\") as f:\n",
        "            text = f.read().replace('\\n', '').lower()\n",
        "            df = df.append({'text': text, 'sentiment': 1}, ignore_index=True)\n",
        "            i = i+1\n",
        "    except IOError as exc:\n",
        "        if exc.errno != errno.EISDIR:\n",
        "            raise\n",
        "'''"
      ],
      "execution_count": 0,
      "outputs": []
    },
    {
      "cell_type": "code",
      "metadata": {
        "id": "KvHYy2P-3KEN",
        "colab_type": "code",
        "colab": {}
      },
      "source": [
        "x = df['text']\n",
        "print(len(x))\n",
        "print(x)"
      ],
      "execution_count": 0,
      "outputs": []
    },
    {
      "cell_type": "code",
      "metadata": {
        "id": "xnbkZKlx3KEP",
        "colab_type": "code",
        "colab": {}
      },
      "source": [
        "'''\n",
        "path = f'{PATH}/neg_t/*.txt'\n",
        "files = glob.glob(path)\n",
        "i = 0\n",
        "for name in files:\n",
        "    try:\n",
        "        if(i %100==0):\n",
        "          print(i)\n",
        "        with open(name,encoding=\"utf8\") as f:\n",
        "            text = f.read().replace('\\n', '').lower()\n",
        "            df = df.append({'text': text, 'sentiment': 0}, ignore_index=True)   \n",
        "            i = i+1\n",
        "    except IOError as exc:\n",
        "        if exc.errno != errno.EISDIR:\n",
        "            raise\n",
        "'''"
      ],
      "execution_count": 0,
      "outputs": []
    },
    {
      "cell_type": "code",
      "metadata": {
        "id": "09S_b6kz3KER",
        "colab_type": "code",
        "colab": {}
      },
      "source": [
        "# shuffle data\n",
        "#df = df.sample(frac=1)"
      ],
      "execution_count": 0,
      "outputs": []
    },
    {
      "cell_type": "code",
      "metadata": {
        "id": "xDv-IrFFk75Y",
        "colab_type": "code",
        "colab": {}
      },
      "source": [
        "df = pd.read_csv(f'{PATH}/data.csv')\n",
        "df_test = pd.read_csv(f'{PATH}/dataTest.csv')"
      ],
      "execution_count": 0,
      "outputs": []
    },
    {
      "cell_type": "code",
      "metadata": {
        "id": "jdSa8Uvh3KEV",
        "colab_type": "code",
        "colab": {}
      },
      "source": [
        "# get x and y\n",
        "x = df['text']\n",
        "X_test = df_test['text']\n",
        "y = df['sentiment']\n",
        "Y_test = df_test['sentiment']\n",
        "# split\n",
        "X_train, X_val, y_train, y_val = train_test_split(x, y, test_size=0.01, random_state=42)"
      ],
      "execution_count": 0,
      "outputs": []
    },
    {
      "cell_type": "code",
      "metadata": {
        "id": "qgg4lVd8hKSa",
        "colab_type": "code",
        "colab": {}
      },
      "source": [
        "# create a dutch stemmer\n",
        "stemmer = SnowballStemmer(\"dutch\")\n",
        "# Stemming\n",
        "X_train = [stemmer.stem(x) for x in X_train]\n",
        "\n",
        "X_test = [stemmer.stem(x) for x in X_test]"
      ],
      "execution_count": 0,
      "outputs": []
    },
    {
      "cell_type": "code",
      "metadata": {
        "id": "_kCbAFqakLbp",
        "colab_type": "code",
        "colab": {}
      },
      "source": [
        ""
      ],
      "execution_count": 0,
      "outputs": []
    },
    {
      "cell_type": "code",
      "metadata": {
        "id": "b-C6Adt03KEX",
        "colab_type": "code",
        "colab": {}
      },
      "source": [
        "# create tokenizer instance\n",
        "tokenizer = Tokenizer()   \n",
        "# create mapping\n",
        "tokenizer.fit_on_texts(X_train)\n",
        "# map text to list of integer values\n",
        "X_train = tokenizer.texts_to_sequences(X_train)\n",
        "X_test = tokenizer.texts_to_sequences(X_test)"
      ],
      "execution_count": 0,
      "outputs": []
    },
    {
      "cell_type": "code",
      "metadata": {
        "id": "bL2xKUOf3KEZ",
        "colab_type": "code",
        "colab": {}
      },
      "source": [
        "\n",
        "vocab_size = len(tokenizer.word_index) + 1\n",
        "# all text to same length\n",
        "maxlen = 320 \n",
        "X_train = pad_sequences(X_train, padding='post', maxlen=maxlen)\n",
        "X_test = pad_sequences(X_test, padding='post', maxlen=maxlen)"
      ],
      "execution_count": 0,
      "outputs": []
    },
    {
      "cell_type": "code",
      "metadata": {
        "id": "V-1uiFxr3KEb",
        "colab_type": "code",
        "colab": {}
      },
      "source": [
        "from numpy import array\n",
        "from numpy import asarray\n",
        "from numpy import zeros\n",
        "\n",
        "embeddings_dictionary = dict()\n",
        "glove_file = open(f'{PATH}/320/wikipedia-320.txt', encoding=\"utf8\")\n",
        "\n",
        "for line in glove_file:\n",
        "    records = line.split()\n",
        "    word = records[0]\n",
        "    vector_dimensions = asarray(records[1:], dtype='float32')\n",
        "    embeddings_dictionary [word] = vector_dimensions\n",
        "glove_file.close()"
      ],
      "execution_count": 0,
      "outputs": []
    },
    {
      "cell_type": "code",
      "metadata": {
        "id": "DAnJdftA3KEd",
        "colab_type": "code",
        "colab": {}
      },
      "source": [
        "embedding_matrix = zeros((vocab_size, 320))\n",
        "for word, index in tokenizer.word_index.items():\n",
        "    embedding_vector = embeddings_dictionary.get(word)\n",
        "    if embedding_vector is not None:\n",
        "        embedding_matrix[index] = embedding_vector"
      ],
      "execution_count": 0,
      "outputs": []
    },
    {
      "cell_type": "markdown",
      "metadata": {
        "id": "fGmqMdYQ3KEh",
        "colab_type": "text"
      },
      "source": [
        "## Convolution"
      ]
    },
    {
      "cell_type": "code",
      "metadata": {
        "id": "RegC_QeL3KEi",
        "colab_type": "code",
        "colab": {}
      },
      "source": [
        "model = Sequential()\n",
        "\n",
        "embedding_layer = Embedding(vocab_size, 320, weights=[embedding_matrix], input_length=maxlen , trainable=False)  \n",
        "model.add(embedding_layer)\n",
        "\n",
        "model.add(Conv1D(256, 5, activation='relu'))  #Play with window size (1,3,5,7)   # Test with more neurons first test 256 n second test 2nd layer (64/128) 3th test with batchnorm or other norm 4th play with windowsize\n",
        "model.add(GlobalMaxPooling1D())\n",
        "model.add(Dense(1, activation='sigmoid'))   # test with relu\n",
        "model.compile(optimizer='adam', loss='binary_crossentropy', metrics=['acc'])"
      ],
      "execution_count": 0,
      "outputs": []
    },
    {
      "cell_type": "code",
      "metadata": {
        "scrolled": true,
        "id": "AYh9nQKX3KEk",
        "colab_type": "code",
        "colab": {}
      },
      "source": [
        "earlyStop= EarlyStopping(monitor='val_loss', patience=6, verbose=0, restore_best_weights=True)\n",
        "\n",
        "history = model.fit(X_train, y_train, batch_size=256, epochs=20, verbose=2, validation_split=0.15, callbacks=[earlyStop])  # play around with bathsize\n"
      ],
      "execution_count": 0,
      "outputs": []
    },
    {
      "cell_type": "code",
      "metadata": {
        "id": "jXTIt_mkxrTD",
        "colab_type": "code",
        "outputId": "d291cf08-9cde-483d-99be-bbc3e34dffd9",
        "colab": {
          "base_uri": "https://localhost:8080/",
          "height": 34
        }
      },
      "source": [
        "score = model.evaluate(X_test, Y_test, verbose=1)"
      ],
      "execution_count": 0,
      "outputs": [
        {
          "output_type": "stream",
          "text": [
            "2226/2226 [==============================] - 0s 95us/step\n"
          ],
          "name": "stdout"
        }
      ]
    },
    {
      "cell_type": "code",
      "metadata": {
        "id": "ukT3BqWv3KEm",
        "colab_type": "code",
        "outputId": "98af8d65-646d-4b5d-a62e-ab61384e57d3",
        "colab": {
          "base_uri": "https://localhost:8080/",
          "height": 51
        }
      },
      "source": [
        "print(\"Test Score:\", score[0])\n",
        "print(\"Test Accuracy:\", score[1])"
      ],
      "execution_count": 0,
      "outputs": [
        {
          "output_type": "stream",
          "text": [
            "Test Score: 0.11368543745051175\n",
            "Test Accuracy: 0.9725965855899205\n"
          ],
          "name": "stdout"
        }
      ]
    },
    {
      "cell_type": "code",
      "metadata": {
        "id": "6hrW2HyU3KEo",
        "colab_type": "code",
        "colab": {}
      },
      "source": [
        "plt.plot(history.history['acc'])\n",
        "plt.plot(history.history['val_acc'])\n",
        "\n",
        "plt.title('model accuracy')\n",
        "plt.ylabel('accuracy')\n",
        "plt.xlabel('epoch')\n",
        "plt.legend(['train','test'], loc = 'upper left')\n",
        "plt.show()\n",
        "\n",
        "plt.plot(history.history['loss'])\n",
        "plt.plot(history.history['val_loss'])\n",
        "\n",
        "plt.title('model loss')\n",
        "plt.ylabel('loss')\n",
        "plt.xlabel('epoch')\n",
        "plt.legend(['train','test'], loc = 'upper left')\n",
        "plt.show()"
      ],
      "execution_count": 0,
      "outputs": []
    },
    {
      "cell_type": "code",
      "metadata": {
        "id": "oRuvn1ml3KEq",
        "colab_type": "code",
        "colab": {}
      },
      "source": [
        "## TIME TO CLASSIFY\n",
        "df_current = pd.read_csv(f'{PATH}/gtst_subtitles_5491_emo.csv')\n",
        "df_true = pd.read_csv(f'{PATH}/gtst_subtitles_5491_true.csv', sep=';')\n"
      ],
      "execution_count": 0,
      "outputs": []
    },
    {
      "cell_type": "code",
      "metadata": {
        "id": "4ZukZ4EZPSCv",
        "colab_type": "code",
        "colab": {}
      },
      "source": [
        "df_current.head()"
      ],
      "execution_count": 0,
      "outputs": []
    },
    {
      "cell_type": "code",
      "metadata": {
        "id": "6wegUQoxBqwS",
        "colab_type": "code",
        "colab": {}
      },
      "source": [
        "# get the labels\n",
        "from sklearn.metrics import accuracy_score, f1_score, precision_score, recall_score, classification_report, confusion_matrix\n",
        "from sklearn.metrics import precision_recall_fscore_support as score\n",
        "\n",
        "true_labels = df_true['true']\n",
        "true_labels = true_labels[1:]\n",
        "true_labels = [x for x in true_labels]\n",
        "current_labels = df_current['sentiment_polarity']\n",
        "current_labels = current_labels[1:]\n",
        "current_labels = [x for x in current_labels]\n",
        "text = df_true['text']\n",
        "text = text[1:]\n",
        "text = [x.replace('\\x03', '') for x in text]\n",
        "text = [x.replace('\\x06', '') for x in text]\n",
        "text = [x.replace('\\x07', '') for x in text]\n",
        "text = [x.replace('.', ' ') for x in text]\n",
        "text = [x.replace(',', ' ') for x in text]\n",
        "\n",
        "text2 = [stemmer.stem(x) for x in text]"
      ],
      "execution_count": 0,
      "outputs": []
    },
    {
      "cell_type": "code",
      "metadata": {
        "id": "HKYUkqlvOP2W",
        "colab_type": "code",
        "colab": {}
      },
      "source": [
        "textInput = tokenizer.texts_to_sequences(text)\n",
        "textInput = pad_sequences(textInput, padding='post', maxlen=maxlen)\n",
        "textInput2 = tokenizer.texts_to_sequences(text2)\n",
        "textInput2 = pad_sequences(textInput2, padding='post', maxlen=maxlen)\n",
        "model_labels = model.predict(textInput2)\n",
        "model_labels = [x[0] for x in model_labels]\n"
      ],
      "execution_count": 0,
      "outputs": []
    },
    {
      "cell_type": "code",
      "metadata": {
        "id": "if2x1vcTPlsO",
        "colab_type": "code",
        "colab": {}
      },
      "source": [
        "def currentToClass(x,d):\n",
        "  if(x<(-1+d)):\n",
        "    return 0\n",
        "  elif(x>(1-d)):\n",
        "    return 2\n",
        "  else:\n",
        "    return 1\n",
        "\n",
        "def modelToClass(x,d):\n",
        "  if(x<d):\n",
        "    return 0\n",
        "  elif(x>(1-d)):\n",
        "    return 2\n",
        "  else: \n",
        "    return 1"
      ],
      "execution_count": 0,
      "outputs": []
    },
    {
      "cell_type": "code",
      "metadata": {
        "id": "13c9op9RRsvl",
        "colab_type": "code",
        "colab": {}
      },
      "source": [
        "dM = 0\n",
        "dC = 0\n",
        "\n",
        "d = 0.025\n",
        "bscore = 0\n",
        "while(d<0.5):\n",
        "  labels = [modelToClass(x,d) for x in model_labels]\n",
        "  precision, recall, fscore, support = score(true_labels, labels)\n",
        "  avgFM = np.mean(fscore)\n",
        "  if(avgFM>=bscore):\n",
        "    bscore = avgFM\n",
        "    dM = d\n",
        "  d = d+0.025\n",
        "\n",
        "d = 0.05\n",
        "bscore = 0\n",
        "while(d<1):\n",
        "  labels = [currentToClass(x,d) for x in current_labels]\n",
        "  precision, recall, fscore, support = score(true_labels, labels)\n",
        "  avgFC = np.mean(fscore)\n",
        "  if(avgFC>=bscore):\n",
        "    bscore = avgFC\n",
        "    dC = d\n",
        "  d = d+0.05\n",
        "\n",
        "print(dC)\n",
        "print(dM)\n",
        "#current_labels = [currentToClass(x) for x in current_labels]"
      ],
      "execution_count": 0,
      "outputs": []
    },
    {
      "cell_type": "code",
      "metadata": {
        "id": "VZNfvP8RUWtm",
        "colab_type": "code",
        "colab": {}
      },
      "source": [
        ""
      ],
      "execution_count": 0,
      "outputs": []
    },
    {
      "cell_type": "code",
      "metadata": {
        "id": "6BTXPM5-Tmqb",
        "colab_type": "code",
        "colab": {}
      },
      "source": [
        "current_labels = [currentToClass(x,dC) for x in current_labels]\n",
        "print('current labels')\n",
        "precision, recall, fscore, support = score(true_labels, current_labels)\n",
        "gemFC = np.mean(fscore)\n",
        "print('precision: {}'.format(precision))\n",
        "print('recall: {}'.format(recall))\n",
        "print('fscore: {}'.format(fscore))\n",
        "\n",
        "model_labels = [modelToClass(x,dM) for x in model_labels]\n",
        "print(' ')\n",
        "print('new model score')\n",
        "precision, recall, fscore, support = score(true_labels, model_labels)\n",
        "gemFM = np.mean(fscore)\n",
        "print('precision: {}'.format(precision))\n",
        "print('recall: {}'.format(recall))\n",
        "print('fscore: {}'.format(fscore))"
      ],
      "execution_count": 0,
      "outputs": []
    },
    {
      "cell_type": "code",
      "metadata": {
        "id": "EjsrpD2Pba1b",
        "colab_type": "code",
        "colab": {}
      },
      "source": [
        "print(gemFC)\n",
        "print(gemFM)"
      ],
      "execution_count": 0,
      "outputs": []
    },
    {
      "cell_type": "code",
      "metadata": {
        "id": "wYFceuCzc3na",
        "colab_type": "code",
        "colab": {}
      },
      "source": [
        ""
      ],
      "execution_count": 0,
      "outputs": []
    }
  ]
}